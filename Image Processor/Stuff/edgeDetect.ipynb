{
 "cells": [
  {
   "cell_type": "markdown",
   "id": "3e750574",
   "metadata": {},
   "source": [
    "This notebook will Illustrate the process of getting the abnormal data from a string of data set"
   ]
  },
  {
   "cell_type": "code",
   "execution_count": 1,
   "id": "cb8fc706",
   "metadata": {},
   "outputs": [],
   "source": [
    "import numpy as np\n",
    "import matplotlib.pyplot as plt\n"
   ]
  },
  {
   "cell_type": "code",
   "execution_count": 2,
   "id": "ddb25a01",
   "metadata": {},
   "outputs": [],
   "source": [
    "def get_3sigmaBound(data):\n",
    "    mean = np.mean(data)\n",
    "    standard_div = np.std(data)\n",
    "    upperbound = mean + 3*standard_div\n",
    "    lowerbound = mean - 3*standard_div\n",
    "    return [upperbound, lowerbound]"
   ]
  },
  {
   "cell_type": "code",
   "execution_count": 3,
   "id": "d5165494",
   "metadata": {},
   "outputs": [],
   "source": [
    "#the function that do the stuff above\n",
    "def check_abnormal(init,s1,hd,Data):\n",
    "    states={} #empty dictionary discribing the current interveral data\n",
    "    end=init+s1 #a stop for the s1 interval\n",
    "    states['num'] = end #start checking at that posision of data\n",
    "    \n",
    "    #get the upperbound and lowerbound of the data\n",
    "    states['up'],states['low'] = get_3sigmaBound(Data[init : end])\n",
    "    \n",
    "    #loop and check for abnormal data with upper and lower bound\n",
    "    for data in Data[end:end+hd]:\n",
    "        #if found abnormal, return the dictionary\n",
    "        if data >= states['up'] or data <= states['low']: return states\n",
    "        states['num'] += 1\n",
    "    #loop is done, and num is noted at Nan\n",
    "    states['num'] = np.NaN\n",
    "    return states\n",
    "     "
   ]
  },
  {
   "cell_type": "code",
   "execution_count": 4,
   "id": "10dadb3d",
   "metadata": {},
   "outputs": [],
   "source": [
    "def perform_3sig(s1,hd,Data):\n",
    "    init = 0 #act as the starting position for the operation\n",
    "    result = {'up':[],'low':[]} #empty dictionary for result appending\n",
    "    while True:\n",
    "        #limter for operation going over the data value\n",
    "        if init+s1+hd >= len(data) : break\n",
    "        #call in the operation to check the abnormal value\n",
    "        states = check_abnormal(init,s1,hd,data)\n",
    "        result['low'].append(states['low']) # append everything to the result\n",
    "        result['up'].append(states['up'])\n",
    "        #check if the data found a abnormal. if so, the operation terminate\n",
    "        if not np.isnan(states['num']) :\n",
    "            result['num'] = states['num']\n",
    "            break\n",
    "        #move to next hd\n",
    "        init += hd \n",
    "    return result"
   ]
  },
  {
   "cell_type": "code",
   "execution_count": 5,
   "id": "e56fdb41",
   "metadata": {},
   "outputs": [],
   "source": [
    "def plot_data(s1,hd,Data,abnormal):\n",
    "    plt.plot(data,'r')\n",
    "    for interation in range(0,len(abnormal['low'])):\n",
    "        i1 = interation*(hd)  \n",
    "        e1 = s1+hd*interation\n",
    "        i2 = s1+hd*interation\n",
    "        e2 = s1+hd*interation+hd\n",
    "        plt.plot(range(i1,e1),np.full(shape=s1,fill_value = abnormal['low'][interation]),'m',)\n",
    "        plt.plot(range(i2,e2),np.full(shape=hd,fill_value = abnormal['low'][interation]),'k',)\n",
    "        plt.plot(range(i1,e1),np.full(shape=s1,fill_value = abnormal['up'][interation]),'m')\n",
    "        plt.plot(range(i2,e2),np.full(shape=hd,fill_value = abnormal['up'][interation]),'k')\n",
    "    if 'num' in abnormal.keys() : plt.plot([abnormal['num']],data[abnormal['num']],'b',)\n",
    "    plt.show()"
   ]
  },
  {
   "cell_type": "code",
   "execution_count": 6,
   "id": "0cd848e8",
   "metadata": {},
   "outputs": [
    {
     "name": "stdout",
     "output_type": "stream",
     "text": [
      "[-0.049038105676658006, 0.0]\n",
      "[2.549038105676658, 3.0]\n",
      "9\n"
     ]
    },
    {
     "data": {
      "image/png": "[encoded data removed]",
      "text/plain": [
       "<Figure size 432x288 with 1 Axes>"
      ]
     },
     "metadata": {
      "needs_background": "light"
     },
     "output_type": "display_data"
    }
   ],
   "source": [
    "data = np.array([1,2,1,1,2,1,2,2,1,0,3,2,5,1,2,5,4,2])\n",
    "s1 = 4\n",
    "hd = 3\n",
    "\n",
    "abnormal = perform_3sig(s1,hd,data)  \n",
    "\n",
    "print(abnormal['low'])\n",
    "print(abnormal['up'])\n",
    "if 'num' in abnormal.keys():\n",
    "    print(abnormal['num'])\n",
    "    \n",
    "plot_data(s1,hd,data,abnormal)"
   ]
  }
 ],
 "metadata": {
  "kernelspec": {
   "display_name": "Python 3 (ipykernel)",
   "language": "python",
   "name": "python3"
  },
  "language_info": {
   "codemirror_mode": {
    "name": "ipython",
    "version": 3
   },
   "file_extension": ".py",
   "mimetype": "text/x-python",
   "name": "python",
   "nbconvert_exporter": "python",
   "pygments_lexer": "ipython3",
   "version": "3.9.7"
  }
 },
 "nbformat": 4,
 "nbformat_minor": 5
}
