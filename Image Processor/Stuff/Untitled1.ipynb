{
 "cells": [
  {
   "cell_type": "code",
   "execution_count": 1,
   "id": "f1a93ce8",
   "metadata": {},
   "outputs": [
    {
     "name": "stderr",
     "output_type": "stream",
     "text": [
      "Matplotlib created a temporary config/cache directory at /var/folders/f2/r7tvqcl54_g_85f8twpz3l8w0000gn/T/matplotlib-aszrzmhg because the default path (/Users/chheangly/.matplotlib) is not a writable directory; it is highly recommended to set the MPLCONFIGDIR environment variable to a writable directory, in particular to speed up the import of Matplotlib and to better support multiprocessing.\n"
     ]
    }
   ],
   "source": [
    "import numpy as np\n",
    "from PIL import Image\n",
    "from pylab import *"
   ]
  },
  {
   "cell_type": "code",
   "execution_count": 2,
   "id": "35f8ec35",
   "metadata": {},
   "outputs": [
    {
     "data": {
      "text/plain": [
       "6.0"
      ]
     },
     "execution_count": 2,
     "metadata": {},
     "output_type": "execute_result"
    }
   ],
   "source": [
    "180/30"
   ]
  },
  {
   "cell_type": "code",
   "execution_count": 5,
   "id": "8cfaed5a",
   "metadata": {},
   "outputs": [],
   "source": [
    "width = 60\n",
    "hight = 50\n",
    "theta = 30\n",
    "angle = np.radians(theta)\n",
    "c, s = np.cos(angle), np.sin(angle)\n",
    "R = np.array(((c, -s), (s, c))) # the rotating matrix (x -> x')\n",
    "img_cord = np.empty((0,2),float)\n",
    "for i in range(0,int(hight)):\n",
    "        for j in range(0,int(width)):\n",
    "            a = np.array([j-width/2.0,i-hight]) #the translating origin \n",
    "            ele = np.matmul(R,a)\n",
    "            img_cord = np.append(img_cord,[ele],axis=0)\n",
    "            \n",
    "            \n",
    "            \n",
    "                #check for pixel around that line\n",
    "                #if ele[1]<0.2 and ele[1]>-0.2:\n",
    "                 #   B = np.array(((c, s), (-s, c))) #the rotating matrix  (x' -> x)\n",
    "                  #  for num in range(0,division):\n",
    "                   #     ele = np.matmul(B,ele)\n",
    "                   # ele = np.around(ele+[width/2.0,hight]) #the translating origin again\n",
    "                    #append to dictionary\n",
    "                    #if ele[0]<width and ele[1]<hight:\n",
    "                     #   img_cord['L'+str(division)] = np.append(img_cord['L'+str(division)],[ele],axis=0)"
   ]
  },
  {
   "cell_type": "code",
   "execution_count": 6,
   "id": "8e02e59b",
   "metadata": {},
   "outputs": [
    {
     "name": "stdout",
     "output_type": "stream",
     "text": [
      "[[ -0.98076211 -58.30127019]\n",
      " [ -0.11473671 -57.80127019]\n",
      " [  0.75128869 -57.30127019]\n",
      " ...\n",
      " [ 23.8826859   12.6339746 ]\n",
      " [ 24.74871131  13.1339746 ]\n",
      " [ 25.61473671  13.6339746 ]]\n"
     ]
    }
   ],
   "source": [
    "print(img_cord)"
   ]
  },
  {
   "cell_type": "code",
   "execution_count": 7,
   "id": "51297890",
   "metadata": {},
   "outputs": [
    {
     "data": {
      "text/plain": [
       "[<matplotlib.lines.Line2D at 0x7fe756d27790>]"
      ]
     },
     "execution_count": 7,
     "metadata": {},
     "output_type": "execute_result"
    },
    {
     "data": {
      "image/png": "[encoded data removed]",
      "text/plain": [
       "<Figure size 432x288 with 1 Axes>"
      ]
     },
     "metadata": {
      "needs_background": "light"
     },
     "output_type": "display_data"
    }
   ],
   "source": [
    "plt.plot(img_cord[:,0],img_cord[:,1],'k.')"
   ]
  },
  {
   "cell_type": "code",
   "execution_count": 54,
   "id": "8ff2edb6",
   "metadata": {},
   "outputs": [],
   "source": [
    "point= np.array([[1,2],\n",
    "        [1.5,4],\n",
    "        [np.NaN,np.NaN],\n",
    "        [np.NaN,np.NaN],\n",
    "        [7,3]\n",
    "        ])"
   ]
  },
  {
   "cell_type": "code",
   "execution_count": 60,
   "id": "5566e257",
   "metadata": {},
   "outputs": [
    {
     "data": {
      "text/plain": [
       "array([4. , 2.5])"
      ]
     },
     "execution_count": 60,
     "metadata": {},
     "output_type": "execute_result"
    }
   ],
   "source": [
    "(point[0]+point[-1])/2"
   ]
  },
  {
   "cell_type": "code",
   "execution_count": 55,
   "id": "74f37d1a",
   "metadata": {},
   "outputs": [],
   "source": [
    "num_per_side = int((len(point)-1)/2)"
   ]
  },
  {
   "cell_type": "code",
   "execution_count": 56,
   "id": "c158484a",
   "metadata": {},
   "outputs": [
    {
     "name": "stdout",
     "output_type": "stream",
     "text": [
      "[[1.  2. ]\n",
      " [1.5 4. ]]\n",
      "[[nan nan]\n",
      " [ 7.  3.]]\n"
     ]
    }
   ],
   "source": [
    "left = point[0:num]\n",
    "right = point[-num:]\n",
    "print(left)\n",
    "print(right)\n"
   ]
  },
  {
   "cell_type": "code",
   "execution_count": 57,
   "id": "ab134cb1",
   "metadata": {},
   "outputs": [
    {
     "name": "stdout",
     "output_type": "stream",
     "text": [
      "[nan nan]+[1.5 4. ]\n",
      "[nan nan]\n"
     ]
    },
    {
     "data": {
      "image/png": "[encoded data removed]",
      "text/plain": [
       "<Figure size 432x288 with 1 Axes>"
      ]
     },
     "metadata": {
      "needs_background": "light"
     },
     "output_type": "display_data"
    }
   ],
   "source": [
    "plt.plot(left[:,0],left[:,1],'k.')\n",
    "plt.plot(right[:,0],right[:,1],'r.')\n",
    "for i in range(0,num):\n",
    "    if not np.isnan(right[i][0]):\n",
    "        print(str(right[-(i+1)])+'+'+str(left[i]))\n",
    "        mid_point = (right[-(i+1)] + left[i])/2\n",
    "        plt.plot(mid_point[0],mid_point[1],'c.')\n",
    "        print(mid_point)"
   ]
  }
 ],
 "metadata": {
  "kernelspec": {
   "display_name": "Python 3",
   "language": "python",
   "name": "python3"
  },
  "language_info": {
   "codemirror_mode": {
    "name": "ipython",
    "version": 3
   },
   "file_extension": ".py",
   "mimetype": "text/x-python",
   "name": "python",
   "nbconvert_exporter": "python",
   "pygments_lexer": "ipython3",
   "version": "3.8.10"
  }
 },
 "nbformat": 4,
 "nbformat_minor": 5
}
